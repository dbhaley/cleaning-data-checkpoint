{
 "cells": [
  {
   "cell_type": "markdown",
   "metadata": {
    "azdata_cell_guid": "26037d32-2047-4157-81ef-595916bd66a0"
   },
   "source": [
    "# Checkpoint Three: Cleaning Data\n",
    "\n",
    "Now you are ready to clean your data. Before starting coding, provide the link to your dataset below.\n",
    "\n",
    "My dataset:[https://www.kaggle.com/datasets/dubradave/hospital-readmissions/download?datasetVersionNumber=1](https://www.kaggle.com/datasets/dubradave/hospital-readmissions/download?datasetVersionNumber=1)\n",
    "\n",
    "Import the necessary libraries and create your dataframe(s)."
   ]
  },
  {
   "cell_type": "code",
   "execution_count": 1,
   "metadata": {
    "azdata_cell_guid": "e8adef8e-d0f2-4640-a179-5997f11e82ca",
    "language": "python"
   },
   "outputs": [
    {
     "data": {
      "text/html": [
       "<div>\n",
       "<style scoped>\n",
       "    .dataframe tbody tr th:only-of-type {\n",
       "        vertical-align: middle;\n",
       "    }\n",
       "\n",
       "    .dataframe tbody tr th {\n",
       "        vertical-align: top;\n",
       "    }\n",
       "\n",
       "    .dataframe thead th {\n",
       "        text-align: right;\n",
       "    }\n",
       "</style>\n",
       "<table border=\"1\" class=\"dataframe\">\n",
       "  <thead>\n",
       "    <tr style=\"text-align: right;\">\n",
       "      <th></th>\n",
       "      <th>age</th>\n",
       "      <th>time_in_hospital</th>\n",
       "      <th>n_lab_procedures</th>\n",
       "      <th>n_procedures</th>\n",
       "      <th>n_medications</th>\n",
       "      <th>n_outpatient</th>\n",
       "      <th>n_inpatient</th>\n",
       "      <th>n_emergency</th>\n",
       "      <th>medical_specialty</th>\n",
       "      <th>diag_1</th>\n",
       "      <th>diag_2</th>\n",
       "      <th>diag_3</th>\n",
       "      <th>glucose_test</th>\n",
       "      <th>A1Ctest</th>\n",
       "      <th>change</th>\n",
       "      <th>diabetes_med</th>\n",
       "      <th>readmitted</th>\n",
       "    </tr>\n",
       "  </thead>\n",
       "  <tbody>\n",
       "    <tr>\n",
       "      <th>0</th>\n",
       "      <td>[70-80)</td>\n",
       "      <td>8</td>\n",
       "      <td>72</td>\n",
       "      <td>1</td>\n",
       "      <td>18</td>\n",
       "      <td>2</td>\n",
       "      <td>0</td>\n",
       "      <td>0</td>\n",
       "      <td>Missing</td>\n",
       "      <td>Circulatory</td>\n",
       "      <td>Respiratory</td>\n",
       "      <td>Other</td>\n",
       "      <td>no</td>\n",
       "      <td>no</td>\n",
       "      <td>no</td>\n",
       "      <td>yes</td>\n",
       "      <td>no</td>\n",
       "    </tr>\n",
       "    <tr>\n",
       "      <th>1</th>\n",
       "      <td>[70-80)</td>\n",
       "      <td>3</td>\n",
       "      <td>34</td>\n",
       "      <td>2</td>\n",
       "      <td>13</td>\n",
       "      <td>0</td>\n",
       "      <td>0</td>\n",
       "      <td>0</td>\n",
       "      <td>Other</td>\n",
       "      <td>Other</td>\n",
       "      <td>Other</td>\n",
       "      <td>Other</td>\n",
       "      <td>no</td>\n",
       "      <td>no</td>\n",
       "      <td>no</td>\n",
       "      <td>yes</td>\n",
       "      <td>no</td>\n",
       "    </tr>\n",
       "    <tr>\n",
       "      <th>2</th>\n",
       "      <td>[50-60)</td>\n",
       "      <td>5</td>\n",
       "      <td>45</td>\n",
       "      <td>0</td>\n",
       "      <td>18</td>\n",
       "      <td>0</td>\n",
       "      <td>0</td>\n",
       "      <td>0</td>\n",
       "      <td>Missing</td>\n",
       "      <td>Circulatory</td>\n",
       "      <td>Circulatory</td>\n",
       "      <td>Circulatory</td>\n",
       "      <td>no</td>\n",
       "      <td>no</td>\n",
       "      <td>yes</td>\n",
       "      <td>yes</td>\n",
       "      <td>yes</td>\n",
       "    </tr>\n",
       "    <tr>\n",
       "      <th>3</th>\n",
       "      <td>[70-80)</td>\n",
       "      <td>2</td>\n",
       "      <td>36</td>\n",
       "      <td>0</td>\n",
       "      <td>12</td>\n",
       "      <td>1</td>\n",
       "      <td>0</td>\n",
       "      <td>0</td>\n",
       "      <td>Missing</td>\n",
       "      <td>Circulatory</td>\n",
       "      <td>Other</td>\n",
       "      <td>Diabetes</td>\n",
       "      <td>no</td>\n",
       "      <td>no</td>\n",
       "      <td>yes</td>\n",
       "      <td>yes</td>\n",
       "      <td>yes</td>\n",
       "    </tr>\n",
       "    <tr>\n",
       "      <th>4</th>\n",
       "      <td>[60-70)</td>\n",
       "      <td>1</td>\n",
       "      <td>42</td>\n",
       "      <td>0</td>\n",
       "      <td>7</td>\n",
       "      <td>0</td>\n",
       "      <td>0</td>\n",
       "      <td>0</td>\n",
       "      <td>InternalMedicine</td>\n",
       "      <td>Other</td>\n",
       "      <td>Circulatory</td>\n",
       "      <td>Respiratory</td>\n",
       "      <td>no</td>\n",
       "      <td>no</td>\n",
       "      <td>no</td>\n",
       "      <td>yes</td>\n",
       "      <td>no</td>\n",
       "    </tr>\n",
       "    <tr>\n",
       "      <th>...</th>\n",
       "      <td>...</td>\n",
       "      <td>...</td>\n",
       "      <td>...</td>\n",
       "      <td>...</td>\n",
       "      <td>...</td>\n",
       "      <td>...</td>\n",
       "      <td>...</td>\n",
       "      <td>...</td>\n",
       "      <td>...</td>\n",
       "      <td>...</td>\n",
       "      <td>...</td>\n",
       "      <td>...</td>\n",
       "      <td>...</td>\n",
       "      <td>...</td>\n",
       "      <td>...</td>\n",
       "      <td>...</td>\n",
       "      <td>...</td>\n",
       "    </tr>\n",
       "    <tr>\n",
       "      <th>24995</th>\n",
       "      <td>[80-90)</td>\n",
       "      <td>14</td>\n",
       "      <td>77</td>\n",
       "      <td>1</td>\n",
       "      <td>30</td>\n",
       "      <td>0</td>\n",
       "      <td>0</td>\n",
       "      <td>0</td>\n",
       "      <td>Missing</td>\n",
       "      <td>Circulatory</td>\n",
       "      <td>Other</td>\n",
       "      <td>Circulatory</td>\n",
       "      <td>no</td>\n",
       "      <td>normal</td>\n",
       "      <td>no</td>\n",
       "      <td>no</td>\n",
       "      <td>yes</td>\n",
       "    </tr>\n",
       "    <tr>\n",
       "      <th>24996</th>\n",
       "      <td>[80-90)</td>\n",
       "      <td>2</td>\n",
       "      <td>66</td>\n",
       "      <td>0</td>\n",
       "      <td>24</td>\n",
       "      <td>0</td>\n",
       "      <td>0</td>\n",
       "      <td>0</td>\n",
       "      <td>Missing</td>\n",
       "      <td>Digestive</td>\n",
       "      <td>Injury</td>\n",
       "      <td>Other</td>\n",
       "      <td>no</td>\n",
       "      <td>high</td>\n",
       "      <td>yes</td>\n",
       "      <td>yes</td>\n",
       "      <td>yes</td>\n",
       "    </tr>\n",
       "    <tr>\n",
       "      <th>24997</th>\n",
       "      <td>[70-80)</td>\n",
       "      <td>5</td>\n",
       "      <td>12</td>\n",
       "      <td>0</td>\n",
       "      <td>6</td>\n",
       "      <td>0</td>\n",
       "      <td>1</td>\n",
       "      <td>0</td>\n",
       "      <td>Missing</td>\n",
       "      <td>Other</td>\n",
       "      <td>Other</td>\n",
       "      <td>Other</td>\n",
       "      <td>normal</td>\n",
       "      <td>no</td>\n",
       "      <td>no</td>\n",
       "      <td>no</td>\n",
       "      <td>yes</td>\n",
       "    </tr>\n",
       "    <tr>\n",
       "      <th>24998</th>\n",
       "      <td>[70-80)</td>\n",
       "      <td>2</td>\n",
       "      <td>61</td>\n",
       "      <td>3</td>\n",
       "      <td>15</td>\n",
       "      <td>0</td>\n",
       "      <td>0</td>\n",
       "      <td>0</td>\n",
       "      <td>Family/GeneralPractice</td>\n",
       "      <td>Respiratory</td>\n",
       "      <td>Diabetes</td>\n",
       "      <td>Other</td>\n",
       "      <td>no</td>\n",
       "      <td>no</td>\n",
       "      <td>yes</td>\n",
       "      <td>yes</td>\n",
       "      <td>no</td>\n",
       "    </tr>\n",
       "    <tr>\n",
       "      <th>24999</th>\n",
       "      <td>[50-60)</td>\n",
       "      <td>10</td>\n",
       "      <td>37</td>\n",
       "      <td>1</td>\n",
       "      <td>24</td>\n",
       "      <td>0</td>\n",
       "      <td>0</td>\n",
       "      <td>0</td>\n",
       "      <td>Missing</td>\n",
       "      <td>Other</td>\n",
       "      <td>Diabetes</td>\n",
       "      <td>Circulatory</td>\n",
       "      <td>no</td>\n",
       "      <td>no</td>\n",
       "      <td>no</td>\n",
       "      <td>no</td>\n",
       "      <td>yes</td>\n",
       "    </tr>\n",
       "  </tbody>\n",
       "</table>\n",
       "<p>25000 rows × 17 columns</p>\n",
       "</div>"
      ],
      "text/plain": [
       "           age  time_in_hospital  n_lab_procedures  n_procedures  \\\n",
       "0      [70-80)                 8                72             1   \n",
       "1      [70-80)                 3                34             2   \n",
       "2      [50-60)                 5                45             0   \n",
       "3      [70-80)                 2                36             0   \n",
       "4      [60-70)                 1                42             0   \n",
       "...        ...               ...               ...           ...   \n",
       "24995  [80-90)                14                77             1   \n",
       "24996  [80-90)                 2                66             0   \n",
       "24997  [70-80)                 5                12             0   \n",
       "24998  [70-80)                 2                61             3   \n",
       "24999  [50-60)                10                37             1   \n",
       "\n",
       "       n_medications  n_outpatient  n_inpatient  n_emergency  \\\n",
       "0                 18             2            0            0   \n",
       "1                 13             0            0            0   \n",
       "2                 18             0            0            0   \n",
       "3                 12             1            0            0   \n",
       "4                  7             0            0            0   \n",
       "...              ...           ...          ...          ...   \n",
       "24995             30             0            0            0   \n",
       "24996             24             0            0            0   \n",
       "24997              6             0            1            0   \n",
       "24998             15             0            0            0   \n",
       "24999             24             0            0            0   \n",
       "\n",
       "            medical_specialty       diag_1       diag_2       diag_3  \\\n",
       "0                     Missing  Circulatory  Respiratory        Other   \n",
       "1                       Other        Other        Other        Other   \n",
       "2                     Missing  Circulatory  Circulatory  Circulatory   \n",
       "3                     Missing  Circulatory        Other     Diabetes   \n",
       "4            InternalMedicine        Other  Circulatory  Respiratory   \n",
       "...                       ...          ...          ...          ...   \n",
       "24995                 Missing  Circulatory        Other  Circulatory   \n",
       "24996                 Missing    Digestive       Injury        Other   \n",
       "24997                 Missing        Other        Other        Other   \n",
       "24998  Family/GeneralPractice  Respiratory     Diabetes        Other   \n",
       "24999                 Missing        Other     Diabetes  Circulatory   \n",
       "\n",
       "      glucose_test A1Ctest change diabetes_med readmitted  \n",
       "0               no      no     no          yes         no  \n",
       "1               no      no     no          yes         no  \n",
       "2               no      no    yes          yes        yes  \n",
       "3               no      no    yes          yes        yes  \n",
       "4               no      no     no          yes         no  \n",
       "...            ...     ...    ...          ...        ...  \n",
       "24995           no  normal     no           no        yes  \n",
       "24996           no    high    yes          yes        yes  \n",
       "24997       normal      no     no           no        yes  \n",
       "24998           no      no    yes          yes         no  \n",
       "24999           no      no     no           no        yes  \n",
       "\n",
       "[25000 rows x 17 columns]"
      ]
     },
     "execution_count": 1,
     "metadata": {},
     "output_type": "execute_result"
    }
   ],
   "source": [
    "import pandas as pd\n",
    "import seaborn as sns\n",
    "import matplotlib.pyplot as plt\n",
    "import numpy as np\n",
    "df= pd.read_csv('hospital_readmissions.csv')\n",
    "df"
   ]
  },
  {
   "cell_type": "code",
   "execution_count": 2,
   "metadata": {},
   "outputs": [
    {
     "data": {
      "text/html": [
       "<div>\n",
       "<style scoped>\n",
       "    .dataframe tbody tr th:only-of-type {\n",
       "        vertical-align: middle;\n",
       "    }\n",
       "\n",
       "    .dataframe tbody tr th {\n",
       "        vertical-align: top;\n",
       "    }\n",
       "\n",
       "    .dataframe thead th {\n",
       "        text-align: right;\n",
       "    }\n",
       "</style>\n",
       "<table border=\"1\" class=\"dataframe\">\n",
       "  <thead>\n",
       "    <tr style=\"text-align: right;\">\n",
       "      <th></th>\n",
       "      <th>age</th>\n",
       "      <th>days</th>\n",
       "      <th>nlabs</th>\n",
       "      <th>nproc</th>\n",
       "      <th>meds</th>\n",
       "      <th>opv</th>\n",
       "      <th>inptv</th>\n",
       "      <th>erv</th>\n",
       "      <th>mdtype</th>\n",
       "      <th>diag_1</th>\n",
       "      <th>diag_2</th>\n",
       "      <th>diag_3</th>\n",
       "      <th>g_test</th>\n",
       "      <th>A1Ctest</th>\n",
       "      <th>change</th>\n",
       "      <th>diab_med</th>\n",
       "      <th>readmit</th>\n",
       "    </tr>\n",
       "  </thead>\n",
       "  <tbody>\n",
       "    <tr>\n",
       "      <th>0</th>\n",
       "      <td>[70-80)</td>\n",
       "      <td>8</td>\n",
       "      <td>72</td>\n",
       "      <td>1</td>\n",
       "      <td>18</td>\n",
       "      <td>2</td>\n",
       "      <td>0</td>\n",
       "      <td>0</td>\n",
       "      <td>Missing</td>\n",
       "      <td>Circulatory</td>\n",
       "      <td>Respiratory</td>\n",
       "      <td>Other</td>\n",
       "      <td>no</td>\n",
       "      <td>no</td>\n",
       "      <td>no</td>\n",
       "      <td>yes</td>\n",
       "      <td>no</td>\n",
       "    </tr>\n",
       "    <tr>\n",
       "      <th>1</th>\n",
       "      <td>[70-80)</td>\n",
       "      <td>3</td>\n",
       "      <td>34</td>\n",
       "      <td>2</td>\n",
       "      <td>13</td>\n",
       "      <td>0</td>\n",
       "      <td>0</td>\n",
       "      <td>0</td>\n",
       "      <td>Other</td>\n",
       "      <td>Other</td>\n",
       "      <td>Other</td>\n",
       "      <td>Other</td>\n",
       "      <td>no</td>\n",
       "      <td>no</td>\n",
       "      <td>no</td>\n",
       "      <td>yes</td>\n",
       "      <td>no</td>\n",
       "    </tr>\n",
       "    <tr>\n",
       "      <th>2</th>\n",
       "      <td>[50-60)</td>\n",
       "      <td>5</td>\n",
       "      <td>45</td>\n",
       "      <td>0</td>\n",
       "      <td>18</td>\n",
       "      <td>0</td>\n",
       "      <td>0</td>\n",
       "      <td>0</td>\n",
       "      <td>Missing</td>\n",
       "      <td>Circulatory</td>\n",
       "      <td>Circulatory</td>\n",
       "      <td>Circulatory</td>\n",
       "      <td>no</td>\n",
       "      <td>no</td>\n",
       "      <td>yes</td>\n",
       "      <td>yes</td>\n",
       "      <td>yes</td>\n",
       "    </tr>\n",
       "    <tr>\n",
       "      <th>3</th>\n",
       "      <td>[70-80)</td>\n",
       "      <td>2</td>\n",
       "      <td>36</td>\n",
       "      <td>0</td>\n",
       "      <td>12</td>\n",
       "      <td>1</td>\n",
       "      <td>0</td>\n",
       "      <td>0</td>\n",
       "      <td>Missing</td>\n",
       "      <td>Circulatory</td>\n",
       "      <td>Other</td>\n",
       "      <td>Diabetes</td>\n",
       "      <td>no</td>\n",
       "      <td>no</td>\n",
       "      <td>yes</td>\n",
       "      <td>yes</td>\n",
       "      <td>yes</td>\n",
       "    </tr>\n",
       "    <tr>\n",
       "      <th>4</th>\n",
       "      <td>[60-70)</td>\n",
       "      <td>1</td>\n",
       "      <td>42</td>\n",
       "      <td>0</td>\n",
       "      <td>7</td>\n",
       "      <td>0</td>\n",
       "      <td>0</td>\n",
       "      <td>0</td>\n",
       "      <td>InternalMedicine</td>\n",
       "      <td>Other</td>\n",
       "      <td>Circulatory</td>\n",
       "      <td>Respiratory</td>\n",
       "      <td>no</td>\n",
       "      <td>no</td>\n",
       "      <td>no</td>\n",
       "      <td>yes</td>\n",
       "      <td>no</td>\n",
       "    </tr>\n",
       "    <tr>\n",
       "      <th>...</th>\n",
       "      <td>...</td>\n",
       "      <td>...</td>\n",
       "      <td>...</td>\n",
       "      <td>...</td>\n",
       "      <td>...</td>\n",
       "      <td>...</td>\n",
       "      <td>...</td>\n",
       "      <td>...</td>\n",
       "      <td>...</td>\n",
       "      <td>...</td>\n",
       "      <td>...</td>\n",
       "      <td>...</td>\n",
       "      <td>...</td>\n",
       "      <td>...</td>\n",
       "      <td>...</td>\n",
       "      <td>...</td>\n",
       "      <td>...</td>\n",
       "    </tr>\n",
       "    <tr>\n",
       "      <th>24995</th>\n",
       "      <td>[80-90)</td>\n",
       "      <td>14</td>\n",
       "      <td>77</td>\n",
       "      <td>1</td>\n",
       "      <td>30</td>\n",
       "      <td>0</td>\n",
       "      <td>0</td>\n",
       "      <td>0</td>\n",
       "      <td>Missing</td>\n",
       "      <td>Circulatory</td>\n",
       "      <td>Other</td>\n",
       "      <td>Circulatory</td>\n",
       "      <td>no</td>\n",
       "      <td>normal</td>\n",
       "      <td>no</td>\n",
       "      <td>no</td>\n",
       "      <td>yes</td>\n",
       "    </tr>\n",
       "    <tr>\n",
       "      <th>24996</th>\n",
       "      <td>[80-90)</td>\n",
       "      <td>2</td>\n",
       "      <td>66</td>\n",
       "      <td>0</td>\n",
       "      <td>24</td>\n",
       "      <td>0</td>\n",
       "      <td>0</td>\n",
       "      <td>0</td>\n",
       "      <td>Missing</td>\n",
       "      <td>Digestive</td>\n",
       "      <td>Injury</td>\n",
       "      <td>Other</td>\n",
       "      <td>no</td>\n",
       "      <td>high</td>\n",
       "      <td>yes</td>\n",
       "      <td>yes</td>\n",
       "      <td>yes</td>\n",
       "    </tr>\n",
       "    <tr>\n",
       "      <th>24997</th>\n",
       "      <td>[70-80)</td>\n",
       "      <td>5</td>\n",
       "      <td>12</td>\n",
       "      <td>0</td>\n",
       "      <td>6</td>\n",
       "      <td>0</td>\n",
       "      <td>1</td>\n",
       "      <td>0</td>\n",
       "      <td>Missing</td>\n",
       "      <td>Other</td>\n",
       "      <td>Other</td>\n",
       "      <td>Other</td>\n",
       "      <td>normal</td>\n",
       "      <td>no</td>\n",
       "      <td>no</td>\n",
       "      <td>no</td>\n",
       "      <td>yes</td>\n",
       "    </tr>\n",
       "    <tr>\n",
       "      <th>24998</th>\n",
       "      <td>[70-80)</td>\n",
       "      <td>2</td>\n",
       "      <td>61</td>\n",
       "      <td>3</td>\n",
       "      <td>15</td>\n",
       "      <td>0</td>\n",
       "      <td>0</td>\n",
       "      <td>0</td>\n",
       "      <td>Family/GeneralPractice</td>\n",
       "      <td>Respiratory</td>\n",
       "      <td>Diabetes</td>\n",
       "      <td>Other</td>\n",
       "      <td>no</td>\n",
       "      <td>no</td>\n",
       "      <td>yes</td>\n",
       "      <td>yes</td>\n",
       "      <td>no</td>\n",
       "    </tr>\n",
       "    <tr>\n",
       "      <th>24999</th>\n",
       "      <td>[50-60)</td>\n",
       "      <td>10</td>\n",
       "      <td>37</td>\n",
       "      <td>1</td>\n",
       "      <td>24</td>\n",
       "      <td>0</td>\n",
       "      <td>0</td>\n",
       "      <td>0</td>\n",
       "      <td>Missing</td>\n",
       "      <td>Other</td>\n",
       "      <td>Diabetes</td>\n",
       "      <td>Circulatory</td>\n",
       "      <td>no</td>\n",
       "      <td>no</td>\n",
       "      <td>no</td>\n",
       "      <td>no</td>\n",
       "      <td>yes</td>\n",
       "    </tr>\n",
       "  </tbody>\n",
       "</table>\n",
       "<p>25000 rows × 17 columns</p>\n",
       "</div>"
      ],
      "text/plain": [
       "           age  days  nlabs  nproc  meds  opv  inptv  erv  \\\n",
       "0      [70-80)     8     72      1    18    2      0    0   \n",
       "1      [70-80)     3     34      2    13    0      0    0   \n",
       "2      [50-60)     5     45      0    18    0      0    0   \n",
       "3      [70-80)     2     36      0    12    1      0    0   \n",
       "4      [60-70)     1     42      0     7    0      0    0   \n",
       "...        ...   ...    ...    ...   ...  ...    ...  ...   \n",
       "24995  [80-90)    14     77      1    30    0      0    0   \n",
       "24996  [80-90)     2     66      0    24    0      0    0   \n",
       "24997  [70-80)     5     12      0     6    0      1    0   \n",
       "24998  [70-80)     2     61      3    15    0      0    0   \n",
       "24999  [50-60)    10     37      1    24    0      0    0   \n",
       "\n",
       "                       mdtype       diag_1       diag_2       diag_3  g_test  \\\n",
       "0                     Missing  Circulatory  Respiratory        Other      no   \n",
       "1                       Other        Other        Other        Other      no   \n",
       "2                     Missing  Circulatory  Circulatory  Circulatory      no   \n",
       "3                     Missing  Circulatory        Other     Diabetes      no   \n",
       "4            InternalMedicine        Other  Circulatory  Respiratory      no   \n",
       "...                       ...          ...          ...          ...     ...   \n",
       "24995                 Missing  Circulatory        Other  Circulatory      no   \n",
       "24996                 Missing    Digestive       Injury        Other      no   \n",
       "24997                 Missing        Other        Other        Other  normal   \n",
       "24998  Family/GeneralPractice  Respiratory     Diabetes        Other      no   \n",
       "24999                 Missing        Other     Diabetes  Circulatory      no   \n",
       "\n",
       "      A1Ctest change diab_med readmit  \n",
       "0          no     no      yes      no  \n",
       "1          no     no      yes      no  \n",
       "2          no    yes      yes     yes  \n",
       "3          no    yes      yes     yes  \n",
       "4          no     no      yes      no  \n",
       "...       ...    ...      ...     ...  \n",
       "24995  normal     no       no     yes  \n",
       "24996    high    yes      yes     yes  \n",
       "24997      no     no       no     yes  \n",
       "24998      no    yes      yes      no  \n",
       "24999      no     no       no     yes  \n",
       "\n",
       "[25000 rows x 17 columns]"
      ]
     },
     "execution_count": 2,
     "metadata": {},
     "output_type": "execute_result"
    }
   ],
   "source": [
    "#Although i did not find any inconsistencies, I Changed long names to condense the data/improve visual evaluation.\n",
    "df = df.rename(columns={'time_in_hospital':'days','n_outpatient':'opv','n_inpatient':'inptv','diabetes_med':'diab_med','n_lab_procedures':'nlabs','n_procedures':'nproc','n_medications':'meds','n_emergency':'erv','medical_specialty':'mdtype','glucose_test':'g_test','readmitted':'readmit'})\n",
    "df"
   ]
  },
  {
   "cell_type": "code",
   "execution_count": 3,
   "metadata": {},
   "outputs": [
    {
     "name": "stdout",
     "output_type": "stream",
     "text": [
      "<class 'pandas.core.frame.DataFrame'>\n",
      "RangeIndex: 25000 entries, 0 to 24999\n",
      "Data columns (total 17 columns):\n",
      " #   Column    Non-Null Count  Dtype \n",
      "---  ------    --------------  ----- \n",
      " 0   age       25000 non-null  object\n",
      " 1   days      25000 non-null  int64 \n",
      " 2   nlabs     25000 non-null  int64 \n",
      " 3   nproc     25000 non-null  int64 \n",
      " 4   meds      25000 non-null  int64 \n",
      " 5   opv       25000 non-null  int64 \n",
      " 6   inptv     25000 non-null  int64 \n",
      " 7   erv       25000 non-null  int64 \n",
      " 8   mdtype    25000 non-null  object\n",
      " 9   diag_1    25000 non-null  object\n",
      " 10  diag_2    25000 non-null  object\n",
      " 11  diag_3    25000 non-null  object\n",
      " 12  g_test    25000 non-null  object\n",
      " 13  A1Ctest   25000 non-null  object\n",
      " 14  change    25000 non-null  object\n",
      " 15  diab_med  25000 non-null  object\n",
      " 16  readmit   25000 non-null  object\n",
      "dtypes: int64(7), object(10)\n",
      "memory usage: 3.2+ MB\n"
     ]
    }
   ],
   "source": [
    "#datatype null and non-null values.  At a glance, it doesn't indicate that there any null values on this data set.\n",
    "df.info()"
   ]
  },
  {
   "cell_type": "code",
   "execution_count": 5,
   "metadata": {},
   "outputs": [
    {
     "data": {
      "text/html": [
       "<div>\n",
       "<style scoped>\n",
       "    .dataframe tbody tr th:only-of-type {\n",
       "        vertical-align: middle;\n",
       "    }\n",
       "\n",
       "    .dataframe tbody tr th {\n",
       "        vertical-align: top;\n",
       "    }\n",
       "\n",
       "    .dataframe thead th {\n",
       "        text-align: right;\n",
       "    }\n",
       "</style>\n",
       "<table border=\"1\" class=\"dataframe\">\n",
       "  <thead>\n",
       "    <tr style=\"text-align: right;\">\n",
       "      <th></th>\n",
       "      <th>age</th>\n",
       "      <th>days</th>\n",
       "      <th>nlabs</th>\n",
       "      <th>nproc</th>\n",
       "      <th>meds</th>\n",
       "      <th>opv</th>\n",
       "      <th>inptv</th>\n",
       "      <th>erv</th>\n",
       "      <th>mdtype</th>\n",
       "      <th>diag_1</th>\n",
       "      <th>diag_2</th>\n",
       "      <th>diag_3</th>\n",
       "      <th>g_test</th>\n",
       "      <th>A1Ctest</th>\n",
       "      <th>change</th>\n",
       "      <th>diab_med</th>\n",
       "      <th>readmit</th>\n",
       "    </tr>\n",
       "  </thead>\n",
       "  <tbody>\n",
       "    <tr>\n",
       "      <th>0</th>\n",
       "      <td>[70-80)</td>\n",
       "      <td>8</td>\n",
       "      <td>72</td>\n",
       "      <td>1</td>\n",
       "      <td>18</td>\n",
       "      <td>2</td>\n",
       "      <td>0</td>\n",
       "      <td>0</td>\n",
       "      <td>Missing</td>\n",
       "      <td>Circulatory</td>\n",
       "      <td>Respiratory</td>\n",
       "      <td>Other</td>\n",
       "      <td>no</td>\n",
       "      <td>no</td>\n",
       "      <td>no</td>\n",
       "      <td>yes</td>\n",
       "      <td>no</td>\n",
       "    </tr>\n",
       "    <tr>\n",
       "      <th>1</th>\n",
       "      <td>[70-80)</td>\n",
       "      <td>3</td>\n",
       "      <td>34</td>\n",
       "      <td>2</td>\n",
       "      <td>13</td>\n",
       "      <td>0</td>\n",
       "      <td>0</td>\n",
       "      <td>0</td>\n",
       "      <td>Other</td>\n",
       "      <td>Other</td>\n",
       "      <td>Other</td>\n",
       "      <td>Other</td>\n",
       "      <td>no</td>\n",
       "      <td>no</td>\n",
       "      <td>no</td>\n",
       "      <td>yes</td>\n",
       "      <td>no</td>\n",
       "    </tr>\n",
       "    <tr>\n",
       "      <th>2</th>\n",
       "      <td>[50-60)</td>\n",
       "      <td>5</td>\n",
       "      <td>45</td>\n",
       "      <td>0</td>\n",
       "      <td>18</td>\n",
       "      <td>0</td>\n",
       "      <td>0</td>\n",
       "      <td>0</td>\n",
       "      <td>Missing</td>\n",
       "      <td>Circulatory</td>\n",
       "      <td>Circulatory</td>\n",
       "      <td>Circulatory</td>\n",
       "      <td>no</td>\n",
       "      <td>no</td>\n",
       "      <td>yes</td>\n",
       "      <td>yes</td>\n",
       "      <td>yes</td>\n",
       "    </tr>\n",
       "  </tbody>\n",
       "</table>\n",
       "</div>"
      ],
      "text/plain": [
       "       age  days  nlabs  nproc  meds  opv  inptv  erv   mdtype       diag_1  \\\n",
       "0  [70-80)     8     72      1    18    2      0    0  Missing  Circulatory   \n",
       "1  [70-80)     3     34      2    13    0      0    0    Other        Other   \n",
       "2  [50-60)     5     45      0    18    0      0    0  Missing  Circulatory   \n",
       "\n",
       "        diag_2       diag_3 g_test A1Ctest change diab_med readmit  \n",
       "0  Respiratory        Other     no      no     no      yes      no  \n",
       "1        Other        Other     no      no     no      yes      no  \n",
       "2  Circulatory  Circulatory     no      no    yes      yes     yes  "
      ]
     },
     "execution_count": 5,
     "metadata": {},
     "output_type": "execute_result"
    }
   ],
   "source": [
    "#Although the above query indicates no null values exist, at a glance,the physician specialty(mdtype) is missing a value.  Will explore this further.\n",
    "df.head(3)"
   ]
  },
  {
   "cell_type": "code",
   "execution_count": 6,
   "metadata": {},
   "outputs": [
    {
     "data": {
      "text/plain": [
       "(25000, 17)"
      ]
     },
     "execution_count": 6,
     "metadata": {},
     "output_type": "execute_result"
    }
   ],
   "source": [
    "# No duplicate rows from original shape\n",
    "df = df.drop_duplicates()\n",
    "df.shape\n"
   ]
  },
  {
   "cell_type": "markdown",
   "metadata": {
    "azdata_cell_guid": "e172475a-c4ee-414a-8367-9965355dbba6"
   },
   "source": [
    "## Missing Data\n",
    "\n",
    "Test your dataset for missing data and handle it as needed. Make notes in the form of code comments as to your thought process."
   ]
  },
  {
   "cell_type": "code",
   "execution_count": 7,
   "metadata": {},
   "outputs": [
    {
     "data": {
      "text/plain": [
       "<AxesSubplot:>"
      ]
     },
     "execution_count": 7,
     "metadata": {},
     "output_type": "execute_result"
    },
    {
     "data": {
      "image/png": "[encoded data removed]",
      "text/plain": [
       "<Figure size 432x288 with 2 Axes>"
      ]
     },
     "metadata": {
      "needs_background": "light"
     },
     "output_type": "display_data"
    }
   ],
   "source": [
    "# The heatmap below indicates no data is null.\n",
    "# yellow is not missing. blue is missing. 17 columns\n",
    "cols = df.columns[:17] \n",
    "colours = ['#88eed2','#eedb88']\n",
    "sns.heatmap(df[cols].isna(), cmap = sns.color_palette(colours))"
   ]
  },
  {
   "cell_type": "code",
   "execution_count": 8,
   "metadata": {},
   "outputs": [
    {
     "name": "stdout",
     "output_type": "stream",
     "text": [
      "age - 0%\n",
      "days - 0%\n",
      "nlabs - 0%\n",
      "nproc - 0%\n",
      "meds - 0%\n",
      "opv - 0%\n",
      "inptv - 0%\n",
      "erv - 0%\n",
      "mdtype - 0%\n",
      "diag_1 - 0%\n",
      "diag_2 - 0%\n",
      "diag_3 - 0%\n",
      "g_test - 0%\n",
      "A1Ctest - 0%\n",
      "change - 0%\n",
      "diab_med - 0%\n",
      "readmit - 0%\n"
     ]
    }
   ],
   "source": [
    "# Missing data percentage list! \n",
    "#% of missing\n",
    "for col in df.columns:\n",
    "    pct_missing = np.mean(df[col].isnull())\n",
    "    print('{} - {}%'.format(col, round(pct_missing*100)))\n"
   ]
  },
  {
   "cell_type": "code",
   "execution_count": 10,
   "metadata": {},
   "outputs": [
    {
     "data": {
      "text/plain": [
       "no     53.0%\n",
       "yes    47.0%\n",
       "Name: readmit, dtype: object"
      ]
     },
     "execution_count": 10,
     "metadata": {},
     "output_type": "execute_result"
    }
   ],
   "source": [
    "perc = df['readmit'].value_counts(normalize = True).mul(100).round(1).astype(str) + '%'\n",
    "# df1= pd.concat([admn_admy, perc], axis= 1, keys=['re-admitted', 'percentage'])\n",
    "#df1.plot(kind='bar')\n",
    "perc"
   ]
  },
  {
   "cell_type": "code",
   "execution_count": 11,
   "metadata": {},
   "outputs": [
    {
     "data": {
      "text/plain": [
       "Text(0.5, 1.0, 'Physician Specialties that Admitted Patients')"
      ]
     },
     "execution_count": 11,
     "metadata": {},
     "output_type": "execute_result"
    },
    {
     "data": {
      "image/png": "[encoded data removed]",
      "text/plain": [
       "<Figure size 432x288 with 1 Axes>"
      ]
     },
     "metadata": {
      "needs_background": "light"
     },
     "output_type": "display_data"
    }
   ],
   "source": [
    "#Get a visual for the physician'specialty that admits the most patients to the hospital. After observing the results,the physician specialty has a great number of specified fields. It is possible that this missing data could give further information about the type of patients or conditions most physicians are admitting.  Choosing to KEEP this data for further analysis.  How would you handle the missing data.The specialty of most physicians is missing.  \n",
    "df['mdtype'].value_counts().plot(kind='bar')\n",
    "plt.title('Physician Specialties that Admitted Patients')"
   ]
  },
  {
   "cell_type": "code",
   "execution_count": 13,
   "metadata": {},
   "outputs": [
    {
     "data": {
      "text/html": [
       "<div>\n",
       "<style scoped>\n",
       "    .dataframe tbody tr th:only-of-type {\n",
       "        vertical-align: middle;\n",
       "    }\n",
       "\n",
       "    .dataframe tbody tr th {\n",
       "        vertical-align: top;\n",
       "    }\n",
       "\n",
       "    .dataframe thead th {\n",
       "        text-align: right;\n",
       "    }\n",
       "</style>\n",
       "<table border=\"1\" class=\"dataframe\">\n",
       "  <thead>\n",
       "    <tr style=\"text-align: right;\">\n",
       "      <th></th>\n",
       "      <th>days</th>\n",
       "      <th>nlabs</th>\n",
       "      <th>nproc</th>\n",
       "      <th>meds</th>\n",
       "      <th>opv</th>\n",
       "      <th>inptv</th>\n",
       "      <th>erv</th>\n",
       "    </tr>\n",
       "    <tr>\n",
       "      <th>readmit</th>\n",
       "      <th></th>\n",
       "      <th></th>\n",
       "      <th></th>\n",
       "      <th></th>\n",
       "      <th></th>\n",
       "      <th></th>\n",
       "      <th></th>\n",
       "    </tr>\n",
       "  </thead>\n",
       "  <tbody>\n",
       "    <tr>\n",
       "      <th>no</th>\n",
       "      <td>4.331345</td>\n",
       "      <td>42.625245</td>\n",
       "      <td>1.424204</td>\n",
       "      <td>15.972445</td>\n",
       "      <td>0.258871</td>\n",
       "      <td>0.380190</td>\n",
       "      <td>0.108561</td>\n",
       "    </tr>\n",
       "    <tr>\n",
       "      <th>yes</th>\n",
       "      <td>4.590778</td>\n",
       "      <td>43.934405</td>\n",
       "      <td>1.271397</td>\n",
       "      <td>16.567892</td>\n",
       "      <td>0.487579</td>\n",
       "      <td>0.881657</td>\n",
       "      <td>0.274545</td>\n",
       "    </tr>\n",
       "  </tbody>\n",
       "</table>\n",
       "</div>"
      ],
      "text/plain": [
       "             days      nlabs     nproc       meds       opv     inptv  \\\n",
       "readmit                                                                 \n",
       "no       4.331345  42.625245  1.424204  15.972445  0.258871  0.380190   \n",
       "yes      4.590778  43.934405  1.271397  16.567892  0.487579  0.881657   \n",
       "\n",
       "              erv  \n",
       "readmit            \n",
       "no       0.108561  \n",
       "yes      0.274545  "
      ]
     },
     "execution_count": 13,
     "metadata": {},
     "output_type": "execute_result"
    }
   ],
   "source": [
    "#Comparison of factors that might affect re-admission to the hospital.  On all collected values, patients readmitted had higher number of days in the hospital, more labs done, more medications, and more visits to the doctor prior to re-admission. Is this a statistically significant difference?\n",
    "df.groupby('readmit').mean()\n"
   ]
  },
  {
   "cell_type": "code",
   "execution_count": 14,
   "metadata": {},
   "outputs": [
    {
     "data": {
      "text/plain": [
       "(array([0, 1]), [Text(0, 0, 'no'), Text(1, 0, 'yes')])"
      ]
     },
     "execution_count": 14,
     "metadata": {},
     "output_type": "execute_result"
    },
    {
     "data": {
      "image/png": "[encoded data removed]",
      "text/plain": [
       "<Figure size 720x360 with 1 Axes>"
      ]
     },
     "metadata": {
      "needs_background": "light"
     },
     "output_type": "display_data"
    }
   ],
   "source": [
    "#Visualize the step above...\n",
    "df.groupby('readmit').mean().plot(kind='bar', figsize= (10,5))\n",
    "plt.title('Comparing Contributing Factors Based On Re-admission')\n",
    "plt.ylabel('Number of procedures and visits',fontsize =14)\n",
    "plt.xticks(rotation = 0)\n"
   ]
  },
  {
   "cell_type": "code",
   "execution_count": 15,
   "metadata": {},
   "outputs": [
    {
     "data": {
      "text/html": [
       "<div>\n",
       "<style scoped>\n",
       "    .dataframe tbody tr th:only-of-type {\n",
       "        vertical-align: middle;\n",
       "    }\n",
       "\n",
       "    .dataframe tbody tr th {\n",
       "        vertical-align: top;\n",
       "    }\n",
       "\n",
       "    .dataframe thead th {\n",
       "        text-align: right;\n",
       "    }\n",
       "</style>\n",
       "<table border=\"1\" class=\"dataframe\">\n",
       "  <thead>\n",
       "    <tr style=\"text-align: right;\">\n",
       "      <th></th>\n",
       "      <th>days</th>\n",
       "      <th>nlabs</th>\n",
       "      <th>nproc</th>\n",
       "      <th>meds</th>\n",
       "      <th>opv</th>\n",
       "      <th>inptv</th>\n",
       "      <th>erv</th>\n",
       "    </tr>\n",
       "    <tr>\n",
       "      <th>mdtype</th>\n",
       "      <th></th>\n",
       "      <th></th>\n",
       "      <th></th>\n",
       "      <th></th>\n",
       "      <th></th>\n",
       "      <th></th>\n",
       "      <th></th>\n",
       "    </tr>\n",
       "  </thead>\n",
       "  <tbody>\n",
       "    <tr>\n",
       "      <th>InternalMedicine</th>\n",
       "      <td>4.748948</td>\n",
       "      <td>50.001683</td>\n",
       "      <td>1.042076</td>\n",
       "      <td>15.144180</td>\n",
       "      <td>0.207013</td>\n",
       "      <td>0.670126</td>\n",
       "      <td>0.177279</td>\n",
       "    </tr>\n",
       "    <tr>\n",
       "      <th>Surgery</th>\n",
       "      <td>4.625721</td>\n",
       "      <td>38.277824</td>\n",
       "      <td>2.065128</td>\n",
       "      <td>19.964551</td>\n",
       "      <td>0.371805</td>\n",
       "      <td>0.542457</td>\n",
       "      <td>0.222589</td>\n",
       "    </tr>\n",
       "    <tr>\n",
       "      <th>Other</th>\n",
       "      <td>4.590465</td>\n",
       "      <td>36.867492</td>\n",
       "      <td>1.706832</td>\n",
       "      <td>17.055180</td>\n",
       "      <td>0.254505</td>\n",
       "      <td>0.586712</td>\n",
       "      <td>0.145646</td>\n",
       "    </tr>\n",
       "    <tr>\n",
       "      <th>Emergency/Trauma</th>\n",
       "      <td>4.516711</td>\n",
       "      <td>43.579841</td>\n",
       "      <td>1.174536</td>\n",
       "      <td>14.705570</td>\n",
       "      <td>0.149072</td>\n",
       "      <td>0.631300</td>\n",
       "      <td>0.383024</td>\n",
       "    </tr>\n",
       "    <tr>\n",
       "      <th>Family/GeneralPractice</th>\n",
       "      <td>4.424548</td>\n",
       "      <td>43.132837</td>\n",
       "      <td>0.961743</td>\n",
       "      <td>14.625930</td>\n",
       "      <td>0.317747</td>\n",
       "      <td>0.674283</td>\n",
       "      <td>0.205632</td>\n",
       "    </tr>\n",
       "    <tr>\n",
       "      <th>Missing</th>\n",
       "      <td>4.420288</td>\n",
       "      <td>43.172508</td>\n",
       "      <td>1.233565</td>\n",
       "      <td>16.424810</td>\n",
       "      <td>0.487401</td>\n",
       "      <td>0.629624</td>\n",
       "      <td>0.174851</td>\n",
       "    </tr>\n",
       "    <tr>\n",
       "      <th>Cardiology</th>\n",
       "      <td>3.541519</td>\n",
       "      <td>42.747339</td>\n",
       "      <td>2.657204</td>\n",
       "      <td>17.069553</td>\n",
       "      <td>0.268985</td>\n",
       "      <td>0.378992</td>\n",
       "      <td>0.071682</td>\n",
       "    </tr>\n",
       "  </tbody>\n",
       "</table>\n",
       "</div>"
      ],
      "text/plain": [
       "                            days      nlabs     nproc       meds       opv  \\\n",
       "mdtype                                                                       \n",
       "InternalMedicine        4.748948  50.001683  1.042076  15.144180  0.207013   \n",
       "Surgery                 4.625721  38.277824  2.065128  19.964551  0.371805   \n",
       "Other                   4.590465  36.867492  1.706832  17.055180  0.254505   \n",
       "Emergency/Trauma        4.516711  43.579841  1.174536  14.705570  0.149072   \n",
       "Family/GeneralPractice  4.424548  43.132837  0.961743  14.625930  0.317747   \n",
       "Missing                 4.420288  43.172508  1.233565  16.424810  0.487401   \n",
       "Cardiology              3.541519  42.747339  2.657204  17.069553  0.268985   \n",
       "\n",
       "                           inptv       erv  \n",
       "mdtype                                      \n",
       "InternalMedicine        0.670126  0.177279  \n",
       "Surgery                 0.542457  0.222589  \n",
       "Other                   0.586712  0.145646  \n",
       "Emergency/Trauma        0.631300  0.383024  \n",
       "Family/GeneralPractice  0.674283  0.205632  \n",
       "Missing                 0.629624  0.174851  \n",
       "Cardiology              0.378992  0.071682  "
      ]
     },
     "execution_count": 15,
     "metadata": {},
     "output_type": "execute_result"
    }
   ],
   "source": [
    "#Comparison based on dr specialty\n",
    "df.groupby('mdtype').mean().sort_values('days', ascending = False)"
   ]
  },
  {
   "cell_type": "code",
   "execution_count": 16,
   "metadata": {},
   "outputs": [
    {
     "data": {
      "text/plain": [
       "(array([0, 1, 2, 3, 4, 5, 6]),\n",
       " [Text(0, 0, 'InternalMedicine'),\n",
       "  Text(1, 0, 'Surgery'),\n",
       "  Text(2, 0, 'Other'),\n",
       "  Text(3, 0, 'Emergency/Trauma'),\n",
       "  Text(4, 0, 'Family/GeneralPractice'),\n",
       "  Text(5, 0, 'Missing'),\n",
       "  Text(6, 0, 'Cardiology')])"
      ]
     },
     "execution_count": 16,
     "metadata": {},
     "output_type": "execute_result"
    },
    {
     "data": {
      "image/png": "[encoded data removed]",
      "text/plain": [
       "<Figure size 1080x360 with 1 Axes>"
      ]
     },
     "metadata": {
      "needs_background": "light"
     },
     "output_type": "display_data"
    }
   ],
   "source": [
    "#Visualize the step above...\n",
    "df.groupby('mdtype').mean().sort_values('days', ascending =False).plot(kind='bar', figsize= (15,5))\n",
    "plt.title('Comparing Contributing Factors Based On Admitting physician specialty')\n",
    "plt.ylabel('Number of procedures and visits',fontsize = 14)\n",
    "plt.xticks(rotation = 0)\n"
   ]
  },
  {
   "cell_type": "code",
   "execution_count": 17,
   "metadata": {},
   "outputs": [
    {
     "data": {
      "text/plain": [
       "(array([0, 1, 2, 3, 4, 5, 6]),\n",
       " [Text(0, 0, 'Cardiology'),\n",
       "  Text(1, 0, 'Emergency/Trauma'),\n",
       "  Text(2, 0, 'Family/GeneralPractice'),\n",
       "  Text(3, 0, 'InternalMedicine'),\n",
       "  Text(4, 0, 'Missing'),\n",
       "  Text(5, 0, 'Other'),\n",
       "  Text(6, 0, 'Surgery')])"
      ]
     },
     "execution_count": 17,
     "metadata": {},
     "output_type": "execute_result"
    },
    {
     "data": {
      "image/png": "[encoded data removed]",
      "text/plain": [
       "<Figure size 1080x360 with 1 Axes>"
      ]
     },
     "metadata": {
      "needs_background": "light"
     },
     "output_type": "display_data"
    }
   ],
   "source": [
    "#Visualize the step above...\n",
    "df.groupby('mdtype').mean().plot(kind='bar', figsize= (15,5))\n",
    "plt.title('Comparing Contributing Factors Based On Admitting physician specialty')\n",
    "plt.ylabel('Number of procedures and visits',fontsize = 14)\n",
    "plt.xticks(rotation = 0)"
   ]
  },
  {
   "cell_type": "markdown",
   "metadata": {
    "azdata_cell_guid": "1233f543-e9a0-4f78-96f5-d7536554102e"
   },
   "source": [
    "## Irregular Data\n",
    "\n",
    "Detect outliers in your dataset and handle them as needed. Use code comments to make notes about your thought process."
   ]
  },
  {
   "cell_type": "code",
   "execution_count": 18,
   "metadata": {
    "azdata_cell_guid": "efed50ae-16f0-471d-98e2-632553a74c12",
    "language": "python"
   },
   "outputs": [
    {
     "data": {
      "text/html": [
       "<div>\n",
       "<style scoped>\n",
       "    .dataframe tbody tr th:only-of-type {\n",
       "        vertical-align: middle;\n",
       "    }\n",
       "\n",
       "    .dataframe tbody tr th {\n",
       "        vertical-align: top;\n",
       "    }\n",
       "\n",
       "    .dataframe thead th {\n",
       "        text-align: right;\n",
       "    }\n",
       "</style>\n",
       "<table border=\"1\" class=\"dataframe\">\n",
       "  <thead>\n",
       "    <tr style=\"text-align: right;\">\n",
       "      <th></th>\n",
       "      <th>days</th>\n",
       "      <th>nlabs</th>\n",
       "      <th>nproc</th>\n",
       "      <th>meds</th>\n",
       "      <th>opv</th>\n",
       "      <th>inptv</th>\n",
       "      <th>erv</th>\n",
       "    </tr>\n",
       "  </thead>\n",
       "  <tbody>\n",
       "    <tr>\n",
       "      <th>count</th>\n",
       "      <td>25000.00000</td>\n",
       "      <td>25000.00000</td>\n",
       "      <td>25000.000000</td>\n",
       "      <td>25000.000000</td>\n",
       "      <td>25000.000000</td>\n",
       "      <td>25000.000000</td>\n",
       "      <td>25000.000000</td>\n",
       "    </tr>\n",
       "    <tr>\n",
       "      <th>mean</th>\n",
       "      <td>4.45332</td>\n",
       "      <td>43.24076</td>\n",
       "      <td>1.352360</td>\n",
       "      <td>16.252400</td>\n",
       "      <td>0.366400</td>\n",
       "      <td>0.615960</td>\n",
       "      <td>0.186600</td>\n",
       "    </tr>\n",
       "    <tr>\n",
       "      <th>std</th>\n",
       "      <td>3.00147</td>\n",
       "      <td>19.81862</td>\n",
       "      <td>1.715179</td>\n",
       "      <td>8.060532</td>\n",
       "      <td>1.195478</td>\n",
       "      <td>1.177951</td>\n",
       "      <td>0.885873</td>\n",
       "    </tr>\n",
       "    <tr>\n",
       "      <th>min</th>\n",
       "      <td>1.00000</td>\n",
       "      <td>1.00000</td>\n",
       "      <td>0.000000</td>\n",
       "      <td>1.000000</td>\n",
       "      <td>0.000000</td>\n",
       "      <td>0.000000</td>\n",
       "      <td>0.000000</td>\n",
       "    </tr>\n",
       "    <tr>\n",
       "      <th>25%</th>\n",
       "      <td>2.00000</td>\n",
       "      <td>31.00000</td>\n",
       "      <td>0.000000</td>\n",
       "      <td>11.000000</td>\n",
       "      <td>0.000000</td>\n",
       "      <td>0.000000</td>\n",
       "      <td>0.000000</td>\n",
       "    </tr>\n",
       "    <tr>\n",
       "      <th>50%</th>\n",
       "      <td>4.00000</td>\n",
       "      <td>44.00000</td>\n",
       "      <td>1.000000</td>\n",
       "      <td>15.000000</td>\n",
       "      <td>0.000000</td>\n",
       "      <td>0.000000</td>\n",
       "      <td>0.000000</td>\n",
       "    </tr>\n",
       "    <tr>\n",
       "      <th>75%</th>\n",
       "      <td>6.00000</td>\n",
       "      <td>57.00000</td>\n",
       "      <td>2.000000</td>\n",
       "      <td>20.000000</td>\n",
       "      <td>0.000000</td>\n",
       "      <td>1.000000</td>\n",
       "      <td>0.000000</td>\n",
       "    </tr>\n",
       "    <tr>\n",
       "      <th>max</th>\n",
       "      <td>14.00000</td>\n",
       "      <td>113.00000</td>\n",
       "      <td>6.000000</td>\n",
       "      <td>79.000000</td>\n",
       "      <td>33.000000</td>\n",
       "      <td>15.000000</td>\n",
       "      <td>64.000000</td>\n",
       "    </tr>\n",
       "  </tbody>\n",
       "</table>\n",
       "</div>"
      ],
      "text/plain": [
       "              days        nlabs         nproc          meds           opv  \\\n",
       "count  25000.00000  25000.00000  25000.000000  25000.000000  25000.000000   \n",
       "mean       4.45332     43.24076      1.352360     16.252400      0.366400   \n",
       "std        3.00147     19.81862      1.715179      8.060532      1.195478   \n",
       "min        1.00000      1.00000      0.000000      1.000000      0.000000   \n",
       "25%        2.00000     31.00000      0.000000     11.000000      0.000000   \n",
       "50%        4.00000     44.00000      1.000000     15.000000      0.000000   \n",
       "75%        6.00000     57.00000      2.000000     20.000000      0.000000   \n",
       "max       14.00000    113.00000      6.000000     79.000000     33.000000   \n",
       "\n",
       "              inptv           erv  \n",
       "count  25000.000000  25000.000000  \n",
       "mean       0.615960      0.186600  \n",
       "std        1.177951      0.885873  \n",
       "min        0.000000      0.000000  \n",
       "25%        0.000000      0.000000  \n",
       "50%        0.000000      0.000000  \n",
       "75%        1.000000      0.000000  \n",
       "max       15.000000     64.000000  "
      ]
     },
     "execution_count": 18,
     "metadata": {},
     "output_type": "execute_result"
    }
   ],
   "source": [
    "#df.describe,identifies a few outliers in the max row. Example: Someone had 64 ER visits prior to hospitalization; Someone had 79 medications, Someone had 114 labs done vs the average of 43.  Will look at these values. \n",
    "#dataset statistics\n",
    "df.describe()"
   ]
  },
  {
   "cell_type": "code",
   "execution_count": 19,
   "metadata": {},
   "outputs": [
    {
     "data": {
      "text/plain": [
       "<AxesSubplot:>"
      ]
     },
     "execution_count": 19,
     "metadata": {},
     "output_type": "execute_result"
    },
    {
     "data": {
      "image/png": "[encoded data removed]",
      "text/plain": [
       "<Figure size 432x288 with 1 Axes>"
      ]
     },
     "metadata": {
      "needs_background": "light"
     },
     "output_type": "display_data"
    }
   ],
   "source": [
    "#There is a single incident of someone with over 60 ER visits. This is an outlier.  Will drop it.\n",
    "df['erv'].plot()"
   ]
  },
  {
   "cell_type": "code",
   "execution_count": 20,
   "metadata": {},
   "outputs": [
    {
     "data": {
      "text/html": [
       "<div>\n",
       "<style scoped>\n",
       "    .dataframe tbody tr th:only-of-type {\n",
       "        vertical-align: middle;\n",
       "    }\n",
       "\n",
       "    .dataframe tbody tr th {\n",
       "        vertical-align: top;\n",
       "    }\n",
       "\n",
       "    .dataframe thead th {\n",
       "        text-align: right;\n",
       "    }\n",
       "</style>\n",
       "<table border=\"1\" class=\"dataframe\">\n",
       "  <thead>\n",
       "    <tr style=\"text-align: right;\">\n",
       "      <th></th>\n",
       "      <th>age</th>\n",
       "      <th>days</th>\n",
       "      <th>nlabs</th>\n",
       "      <th>nproc</th>\n",
       "      <th>meds</th>\n",
       "      <th>opv</th>\n",
       "      <th>inptv</th>\n",
       "      <th>erv</th>\n",
       "      <th>mdtype</th>\n",
       "      <th>diag_1</th>\n",
       "      <th>diag_2</th>\n",
       "      <th>diag_3</th>\n",
       "      <th>g_test</th>\n",
       "      <th>A1Ctest</th>\n",
       "      <th>change</th>\n",
       "      <th>diab_med</th>\n",
       "      <th>readmit</th>\n",
       "    </tr>\n",
       "  </thead>\n",
       "  <tbody>\n",
       "    <tr>\n",
       "      <th>24177</th>\n",
       "      <td>[60-70)</td>\n",
       "      <td>1</td>\n",
       "      <td>1</td>\n",
       "      <td>0</td>\n",
       "      <td>11</td>\n",
       "      <td>2</td>\n",
       "      <td>2</td>\n",
       "      <td>64</td>\n",
       "      <td>Surgery</td>\n",
       "      <td>Respiratory</td>\n",
       "      <td>Other</td>\n",
       "      <td>Other</td>\n",
       "      <td>no</td>\n",
       "      <td>no</td>\n",
       "      <td>no</td>\n",
       "      <td>no</td>\n",
       "      <td>yes</td>\n",
       "    </tr>\n",
       "  </tbody>\n",
       "</table>\n",
       "</div>"
      ],
      "text/plain": [
       "           age  days  nlabs  nproc  meds  opv  inptv  erv   mdtype  \\\n",
       "24177  [60-70)     1      1      0    11    2      2   64  Surgery   \n",
       "\n",
       "            diag_1 diag_2 diag_3 g_test A1Ctest change diab_med readmit  \n",
       "24177  Respiratory  Other  Other     no      no     no       no     yes  "
      ]
     },
     "execution_count": 20,
     "metadata": {},
     "output_type": "execute_result"
    }
   ],
   "source": [
    "#Located outlier row with > 60 ER visits.  Will drop this row 24177, as it is significantly higher than most.\n",
    "df.loc[df['erv']== 64]"
   ]
  },
  {
   "cell_type": "code",
   "execution_count": 30,
   "metadata": {},
   "outputs": [
    {
     "data": {
      "text/plain": [
       "(24999, 17)"
      ]
     },
     "execution_count": 30,
     "metadata": {},
     "output_type": "execute_result"
    }
   ],
   "source": [
    "#dropped the row with 64 ER visits, as it is an outlier.\n",
    "df.drop(df.loc[df['erv']==64].index, inplace = True)\n",
    "df.shape"
   ]
  },
  {
   "cell_type": "code",
   "execution_count": 29,
   "metadata": {},
   "outputs": [
    {
     "data": {
      "text/plain": [
       "<AxesSubplot:>"
      ]
     },
     "execution_count": 29,
     "metadata": {},
     "output_type": "execute_result"
    },
    {
     "data": {
      "image/png": "[encoded data removed]",
      "text/plain": [
       "<Figure size 432x288 with 1 Axes>"
      ]
     },
     "metadata": {
      "needs_background": "light"
     },
     "output_type": "display_data"
    }
   ],
   "source": [
    "df['inptv'].plot()\n"
   ]
  },
  {
   "cell_type": "code",
   "execution_count": 32,
   "metadata": {},
   "outputs": [
    {
     "data": {
      "text/html": [
       "<div>\n",
       "<style scoped>\n",
       "    .dataframe tbody tr th:only-of-type {\n",
       "        vertical-align: middle;\n",
       "    }\n",
       "\n",
       "    .dataframe tbody tr th {\n",
       "        vertical-align: top;\n",
       "    }\n",
       "\n",
       "    .dataframe thead th {\n",
       "        text-align: right;\n",
       "    }\n",
       "</style>\n",
       "<table border=\"1\" class=\"dataframe\">\n",
       "  <thead>\n",
       "    <tr style=\"text-align: right;\">\n",
       "      <th></th>\n",
       "      <th>age</th>\n",
       "      <th>days</th>\n",
       "      <th>nlabs</th>\n",
       "      <th>nproc</th>\n",
       "      <th>meds</th>\n",
       "      <th>opv</th>\n",
       "      <th>inptv</th>\n",
       "      <th>erv</th>\n",
       "      <th>mdtype</th>\n",
       "      <th>diag_1</th>\n",
       "      <th>diag_2</th>\n",
       "      <th>diag_3</th>\n",
       "      <th>g_test</th>\n",
       "      <th>A1Ctest</th>\n",
       "      <th>change</th>\n",
       "      <th>diab_med</th>\n",
       "      <th>readmit</th>\n",
       "    </tr>\n",
       "  </thead>\n",
       "  <tbody>\n",
       "    <tr>\n",
       "      <th>10175</th>\n",
       "      <td>[60-70)</td>\n",
       "      <td>3</td>\n",
       "      <td>64</td>\n",
       "      <td>0</td>\n",
       "      <td>13</td>\n",
       "      <td>33</td>\n",
       "      <td>0</td>\n",
       "      <td>0</td>\n",
       "      <td>Missing</td>\n",
       "      <td>Digestive</td>\n",
       "      <td>Other</td>\n",
       "      <td>Respiratory</td>\n",
       "      <td>no</td>\n",
       "      <td>no</td>\n",
       "      <td>no</td>\n",
       "      <td>yes</td>\n",
       "      <td>yes</td>\n",
       "    </tr>\n",
       "  </tbody>\n",
       "</table>\n",
       "</div>"
      ],
      "text/plain": [
       "           age  days  nlabs  nproc  meds  opv  inptv  erv   mdtype     diag_1  \\\n",
       "10175  [60-70)     3     64      0    13   33      0    0  Missing  Digestive   \n",
       "\n",
       "      diag_2       diag_3 g_test A1Ctest change diab_med readmit  \n",
       "10175  Other  Respiratory     no      no     no      yes     yes  "
      ]
     },
     "execution_count": 32,
     "metadata": {},
     "output_type": "execute_result"
    }
   ],
   "source": [
    "#locate outlier row with >30 Outpatient visits\n",
    "df.loc[df['opv']>30]"
   ]
  },
  {
   "cell_type": "code",
   "execution_count": 22,
   "metadata": {},
   "outputs": [
    {
     "data": {
      "text/plain": [
       "<AxesSubplot:>"
      ]
     },
     "execution_count": 22,
     "metadata": {},
     "output_type": "execute_result"
    },
    {
     "data": {
      "image/png": "[encoded data removed]",
      "text/plain": [
       "<Figure size 432x288 with 1 Axes>"
      ]
     },
     "metadata": {
      "needs_background": "light"
     },
     "output_type": "display_data"
    }
   ],
   "source": [
    "df['opv'].plot()"
   ]
  },
  {
   "cell_type": "code",
   "execution_count": null,
   "metadata": {},
   "outputs": [],
   "source": [
    "df.drop(df.loc[df['opv']=="
   ]
  },
  {
   "cell_type": "code",
   "execution_count": 23,
   "metadata": {},
   "outputs": [
    {
     "data": {
      "text/plain": [
       "<AxesSubplot:>"
      ]
     },
     "execution_count": 23,
     "metadata": {},
     "output_type": "execute_result"
    },
    {
     "data": {
      "image/png": "[encoded data removed]",
      "text/plain": [
       "<Figure size 432x288 with 1 Axes>"
      ]
     },
     "metadata": {
      "needs_background": "light"
     },
     "output_type": "display_data"
    }
   ],
   "source": [
    "df['nlabs'].plot()"
   ]
  },
  {
   "cell_type": "code",
   "execution_count": 24,
   "metadata": {},
   "outputs": [
    {
     "data": {
      "text/plain": [
       "<AxesSubplot:>"
      ]
     },
     "execution_count": 24,
     "metadata": {},
     "output_type": "execute_result"
    },
    {
     "data": {
      "image/png": "[encoded data removed]",
      "text/plain": [
       "<Figure size 432x288 with 1 Axes>"
      ]
     },
     "metadata": {
      "needs_background": "light"
     },
     "output_type": "display_data"
    }
   ],
   "source": [
    "df['days'].plot()"
   ]
  },
  {
   "cell_type": "code",
   "execution_count": 25,
   "metadata": {},
   "outputs": [
    {
     "data": {
      "text/plain": [
       "<AxesSubplot:>"
      ]
     },
     "execution_count": 25,
     "metadata": {},
     "output_type": "execute_result"
    },
    {
     "data": {
      "image/png": "[encoded data removed]",
      "text/plain": [
       "<Figure size 432x288 with 1 Axes>"
      ]
     },
     "metadata": {
      "needs_background": "light"
     },
     "output_type": "display_data"
    }
   ],
   "source": [
    "df['meds'].plot()"
   ]
  },
  {
   "cell_type": "code",
   "execution_count": null,
   "metadata": {},
   "outputs": [],
   "source": [
    "#based on the visualizations above,no other significant outliers were found. "
   ]
  },
  {
   "cell_type": "markdown",
   "metadata": {
    "azdata_cell_guid": "6f5b8ee0-bab3-44bc-958a-67d1e4c0407f"
   },
   "source": [
    "## Unnecessary Data\n",
    "\n",
    "Look for the different types of unnecessary data in your dataset and address it as needed. Make sure to use code comments to illustrate your thought process."
   ]
  },
  {
   "cell_type": "code",
   "execution_count": 26,
   "metadata": {
    "azdata_cell_guid": "e788a239-2fbf-41de-9bd3-19e52e3b187c",
    "language": "python"
   },
   "outputs": [],
   "source": [
    "#Although there are a lot of \"other\" diagnosis categories, it provides valuable information in the bigger analysis of hospital admissions.Will keep this data for further analysis."
   ]
  },
  {
   "cell_type": "markdown",
   "metadata": {
    "azdata_cell_guid": "53e0cf94-c68a-4fa0-9849-9505a66bcce6"
   },
   "source": [
    "## Inconsistent Data\n",
    "\n",
    "Check for inconsistent data and address any that arises. As always, use code comments to illustrate your thought process."
   ]
  },
  {
   "cell_type": "code",
   "execution_count": 27,
   "metadata": {
    "azdata_cell_guid": "e9de6624-812a-43f8-8e20-93b4a49b091f",
    "language": "python"
   },
   "outputs": [],
   "source": [
    "#I did not find inconsistencies in my dataset."
   ]
  },
  {
   "cell_type": "markdown",
   "metadata": {
    "azdata_cell_guid": "dedc0bfe-17d0-40b2-914f-2ddb54f9ce0d"
   },
   "source": [
    "## Summarize Your Results\n",
    "\n",
    "#Make note of your answers to the following questions.\n",
    "\n",
    "1. Did you find all four types of dirty data in your dataset?\n",
    "I did not find duplicate, missing, inconsistent or incorrect.  I did find irregular data: an outliers that i chose to delete from the dataset.\n",
    "2. Did the process of cleaning your data give you new insights into your dataset?\n",
    "yes, mostly about the distribution of the data within their categories.\n",
    "3. Is there anything you would like to make note of when it comes to manipulating the data and making visualizations?\n",
    "Half of my data has values and half has categorical values.  Would like to come up with visualizations that tells the most importan part of my dataset and what factors affect hospitalizations the most."
   ]
  }
 ],
 "metadata": {
  "kernelspec": {
   "display_name": "Python 3 (ipykernel)",
   "language": "python",
   "name": "python3"
  },
  "language_info": {
   "codemirror_mode": {
    "name": "ipython",
    "version": 3
   },
   "file_extension": ".py",
   "mimetype": "text/x-python",
   "name": "python",
   "nbconvert_exporter": "python",
   "pygments_lexer": "ipython3",
   "version": "3.9.7"
  }
 },
 "nbformat": 4,
 "nbformat_minor": 2
}
